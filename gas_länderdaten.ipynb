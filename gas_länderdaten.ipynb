{
 "cells": [
  {
   "cell_type": "markdown",
   "metadata": {},
   "source": [
    "# Gasimport aus diversen Ländern"
   ]
  },
  {
   "cell_type": "code",
   "execution_count": 1,
   "metadata": {},
   "outputs": [
    {
     "data": {
      "text/plain": [
       "'de_CH.UTF-8'"
      ]
     },
     "execution_count": 1,
     "metadata": {},
     "output_type": "execute_result"
    }
   ],
   "source": [
    "import requests\n",
    "import zipfile\n",
    "import io\n",
    "import pandas as pd\n",
    "from datetime import datetime, timedelta\n",
    "from time import sleep\n",
    "from energy_settings import (\n",
    "    backdate,\n",
    "    datawrapper_api_key,\n",
    "    datawrapper_url,\n",
    "    datawrapper_headers\n",
    ")\n",
    "import dw\n",
    "import locale\n",
    "#from bs4 import BeautifulSoup\n",
    "import bs4\n",
    "import os\n",
    "locale.setlocale(locale.LC_TIME, 'de_CH.UTF-8')"
   ]
  },
  {
   "cell_type": "code",
   "execution_count": null,
   "metadata": {},
   "outputs": [],
   "source": [
    "today = datetime.today().strftime('%Y-%m-%d')"
   ]
  },
  {
   "cell_type": "markdown",
   "metadata": {},
   "source": [
    "**Daten-Download**"
   ]
  },
  {
   "cell_type": "markdown",
   "metadata": {},
   "source": [
    "Aktuelle url scrapen"
   ]
  },
  {
   "cell_type": "code",
   "execution_count": null,
   "metadata": {},
   "outputs": [],
   "source": [
    "headers = {'User-Agent': 'Mozilla/5.0 (X11; Linux x86_64) AppleWebKit/537.36 (KHTML, like Gecko) Chrome/118.0.0.0 Safari/537.36'}\n",
    "\n",
    "\n",
    "res = requests.get('https://www.bruegel.org/dataset/european-natural-gas-imports', headers=headers)\n",
    "\n",
    "soup = BeautifulSoup(res.text, 'html.parser')\n",
    "\n",
    "download_url = 'https://www.bruegel.org' + soup.find('a', title='Download data')['href']"
   ]
  },
  {
   "cell_type": "markdown",
   "metadata": {},
   "source": [
    "Aktuelle url laden und Abgleich mit heruntergeladener url machen. Wenn heruntergeladene neu ist, als aktuelle speichern."
   ]
  },
  {
   "cell_type": "code",
   "execution_count": null,
   "metadata": {},
   "outputs": [],
   "source": [
    "with open('/root/energiemonitor/current_bruegel_url.txt', 'r') as file:\n",
    "    current_url = file.read()"
   ]
  },
  {
   "cell_type": "code",
   "execution_count": null,
   "metadata": {},
   "outputs": [],
   "source": [
    "if download_url != current_url:\n",
    "    \n",
    "    current_url = download_url\n",
    "    \n",
    "    with open('/root/energiemonitor/current_bruegel_url.txt', 'w') as file:\n",
    "        file.write(download_url)"
   ]
  },
  {
   "cell_type": "markdown",
   "metadata": {},
   "source": [
    "Daten herunterladen und einlesen"
   ]
  },
  {
   "cell_type": "code",
   "execution_count": null,
   "metadata": {},
   "outputs": [],
   "source": [
    "r = requests.get(current_url, stream=True)\n",
    "z = zipfile.ZipFile(io.BytesIO(r.content))\n",
    "z.extractall(f'/root/energiemonitor/Rohdaten/Bruegel/{today}')"
   ]
  },
  {
   "cell_type": "code",
   "execution_count": null,
   "metadata": {},
   "outputs": [],
   "source": [
    "for document in os.listdir(f'/root/energiemonitor/Rohdaten/Bruegel/{today}/'):\n",
    "    if 'country_data' in document and 'xlsx' in document:\n",
    "        current_document = document"
   ]
  },
  {
   "cell_type": "code",
   "execution_count": null,
   "metadata": {},
   "outputs": [],
   "source": [
    "df = pd.read_excel(f'/root/energiemonitor/Rohdaten/Bruegel/{today}/{current_document}')"
   ]
  },
  {
   "cell_type": "markdown",
   "metadata": {},
   "source": [
    "Formatieren"
   ]
  },
  {
   "cell_type": "code",
   "execution_count": null,
   "metadata": {},
   "outputs": [],
   "source": [
    "df = df.iloc[1:].copy()"
   ]
  },
  {
   "cell_type": "markdown",
   "metadata": {},
   "source": [
    "Komma durch Punkt ersetzen"
   ]
  },
  {
   "cell_type": "code",
   "execution_count": null,
   "metadata": {},
   "outputs": [],
   "source": [
    "df = df.replace(',', '', regex=True)"
   ]
  },
  {
   "cell_type": "markdown",
   "metadata": {},
   "source": [
    "Für jedes Lieferantenland ein eigenes df erstellen"
   ]
  },
  {
   "cell_type": "code",
   "execution_count": null,
   "metadata": {},
   "outputs": [],
   "source": [
    "df_eu = df[['week', 'EU_2023', 'EU_2022', 'EU_max', 'EU_min']].copy()\n",
    "df_rus = df[['week', 'Russia_2023', 'Russia_2022', 'Russia_max', 'Russia_min']].copy()\n",
    "df_lng = df[['week', 'LNG_2023', 'LNG_2022', 'LNG_max', 'LNG_min']].copy()\n",
    "df_nor = df[['week', 'Norway_2023', 'Norway_2022', 'Norway_max', 'Norway_min']].copy()\n",
    "df_alg = df[['week', 'Algeria_2023', 'Algeria_2022', 'Algeria_max', 'Algeria_min']].copy()"
   ]
  },
  {
   "cell_type": "markdown",
   "metadata": {},
   "source": [
    "Spalten umbennen"
   ]
  },
  {
   "cell_type": "code",
   "execution_count": null,
   "metadata": {},
   "outputs": [],
   "source": [
    "df_eu.rename(columns={\n",
    "    'week': 'Woche',\n",
    "    'EU_min': 'Minimum',\n",
    "    'EU_max': 'Maximum',\n",
    "    'EU_2022': '2022',\n",
    "    'EU_2023': '2023'\n",
    "}, inplace=True)\n",
    "\n",
    "df_rus.rename(columns={\n",
    "    'week': 'Woche',\n",
    "    'Russia_min': 'Minimum',\n",
    "    'Russia_max': 'Maximum',\n",
    "    'Russia_2022': '2022',\n",
    "    'Russia_2023': '2023'\n",
    "}, inplace=True)\n",
    "\n",
    "df_lng.rename(columns={\n",
    "    'week': 'Woche',\n",
    "    'LNG_min': 'Minimum',\n",
    "    'LNG_max': 'Maximum',\n",
    "    'LNG_2022': '2022',\n",
    "    'LNG_2023': '2023'\n",
    "}, inplace=True)\n",
    "\n",
    "df_nor.rename(columns={\n",
    "    'week': 'Woche',\n",
    "    'Norway_min': 'Minimum',\n",
    "    'Norway_max': 'Maximum',\n",
    "    'Norway_2022': '2022',\n",
    "    'Norway_2023': '2023'\n",
    "}, inplace=True)\n",
    "\n",
    "df_alg.rename(columns={\n",
    "    'week': 'Woche',\n",
    "    'Algeria_min': 'Minimum',\n",
    "    'Algeria_max': 'Maximum',\n",
    "    'Algeria_2022': '2022',\n",
    "    'Algeria_2023': '2023'\n",
    "}, inplace=True)"
   ]
  },
  {
   "cell_type": "markdown",
   "metadata": {},
   "source": [
    "**Datawrapper-Update**"
   ]
  },
  {
   "cell_type": "code",
   "execution_count": null,
   "metadata": {},
   "outputs": [],
   "source": [
    "chart_ids = {\n",
    "    'EU total': {'data': df_eu, 'chart_id': '4HTS3'},\n",
    "    'Russland': {'data': df_rus, 'chart_id': 'o4qLp'},\n",
    "    'Norwegen': {'data': df_nor, 'chart_id': 'Y83VN'},\n",
    "    'Flüssigerdgas': {'data': df_lng, 'chart_id': '3FrFt'},\n",
    "    'Algerien': {'data': df_alg, 'chart_id': 'm9zNp'}\n",
    "}"
   ]
  },
  {
   "cell_type": "markdown",
   "metadata": {},
   "source": [
    "**Daten-Upload**"
   ]
  },
  {
   "cell_type": "code",
   "execution_count": null,
   "metadata": {},
   "outputs": [],
   "source": [
    "last_updated = datetime.today()\n",
    "\n",
    "last_updated_str = last_updated.strftime('%-d. %B %Y')\n",
    "        \n",
    "note = f'Minimum und Maximum beziehen sich auf den Zeitraum 2015 bis 2020. Wird wöchentlich aktualisiert, zuletzt am {last_updated_str}.'\n",
    "\n",
    "payload = {\n",
    "\n",
    "    'metadata': {'annotate': {'notes': note}\n",
    "                }\n",
    "\n",
    "    }\n",
    "\n",
    "for country in chart_ids.keys():\n",
    "    \n",
    "    temp_dict = chart_ids[country]\n",
    "    df_temp = temp_dict['data']\n",
    "    chart_id = temp_dict['chart_id']\n",
    "    \n",
    "    df_temp.set_index('Woche', inplace=True)\n",
    "    \n",
    "    dw.chart_filler(chart_id=chart_id, df=df_temp)\n",
    "    \n",
    "    dw.chart_updater(chart_id=chart_id, payload=payload)"
   ]
  }
 ],
 "metadata": {
  "kernelspec": {
   "display_name": "Python 3",
   "language": "python",
   "name": "python3"
  },
  "language_info": {
   "codemirror_mode": {
    "name": "ipython",
    "version": 3
   },
   "file_extension": ".py",
   "mimetype": "text/x-python",
   "name": "python",
   "nbconvert_exporter": "python",
   "pygments_lexer": "ipython3",
   "version": "3.8.3"
  }
 },
 "nbformat": 4,
 "nbformat_minor": 4
}
